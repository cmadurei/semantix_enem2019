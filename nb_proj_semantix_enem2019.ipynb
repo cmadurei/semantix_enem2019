{
 "cells": [
  {
   "cell_type": "code",
   "execution_count": 1,
   "id": "5036f457",
   "metadata": {},
   "outputs": [],
   "source": [
    "import pandas as pd\n",
    "import numpy as np\n",
    "import matplotlib.pyplot as plt\n",
    "import seaborn as sns"
   ]
  },
  {
   "cell_type": "code",
   "execution_count": 2,
   "id": "5bf53aa7",
   "metadata": {},
   "outputs": [],
   "source": [
    "# Desabilitar Notacao Científica e deixar com 2 casas decimais\n",
    "pd.set_option('display.float_format', '{:,.2f}'.format)"
   ]
  },
  {
   "cell_type": "code",
   "execution_count": 3,
   "id": "28a1580a",
   "metadata": {},
   "outputs": [],
   "source": [
    "df = pd.read_csv('MICRODADOS_ENEM_2019.csv', sep=';',  encoding='latin-1')"
   ]
  },
  {
   "cell_type": "code",
   "execution_count": 4,
   "id": "f5f1968c",
   "metadata": {},
   "outputs": [
    {
     "data": {
      "text/html": [
       "<div>\n",
       "<style scoped>\n",
       "    .dataframe tbody tr th:only-of-type {\n",
       "        vertical-align: middle;\n",
       "    }\n",
       "\n",
       "    .dataframe tbody tr th {\n",
       "        vertical-align: top;\n",
       "    }\n",
       "\n",
       "    .dataframe thead th {\n",
       "        text-align: right;\n",
       "    }\n",
       "</style>\n",
       "<table border=\"1\" class=\"dataframe\">\n",
       "  <thead>\n",
       "    <tr style=\"text-align: right;\">\n",
       "      <th></th>\n",
       "      <th>NU_INSCRICAO</th>\n",
       "      <th>NU_ANO</th>\n",
       "      <th>CO_MUNICIPIO_RESIDENCIA</th>\n",
       "      <th>NO_MUNICIPIO_RESIDENCIA</th>\n",
       "      <th>CO_UF_RESIDENCIA</th>\n",
       "      <th>SG_UF_RESIDENCIA</th>\n",
       "      <th>NU_IDADE</th>\n",
       "      <th>TP_SEXO</th>\n",
       "      <th>TP_ESTADO_CIVIL</th>\n",
       "      <th>TP_COR_RACA</th>\n",
       "      <th>...</th>\n",
       "      <th>Q016</th>\n",
       "      <th>Q017</th>\n",
       "      <th>Q018</th>\n",
       "      <th>Q019</th>\n",
       "      <th>Q020</th>\n",
       "      <th>Q021</th>\n",
       "      <th>Q022</th>\n",
       "      <th>Q023</th>\n",
       "      <th>Q024</th>\n",
       "      <th>Q025</th>\n",
       "    </tr>\n",
       "  </thead>\n",
       "  <tbody>\n",
       "    <tr>\n",
       "      <th>0</th>\n",
       "      <td>190001595656</td>\n",
       "      <td>2019</td>\n",
       "      <td>3552205</td>\n",
       "      <td>Sorocaba</td>\n",
       "      <td>35</td>\n",
       "      <td>SP</td>\n",
       "      <td>36.00</td>\n",
       "      <td>M</td>\n",
       "      <td>1</td>\n",
       "      <td>3</td>\n",
       "      <td>...</td>\n",
       "      <td>A</td>\n",
       "      <td>A</td>\n",
       "      <td>A</td>\n",
       "      <td>A</td>\n",
       "      <td>A</td>\n",
       "      <td>A</td>\n",
       "      <td>C</td>\n",
       "      <td>A</td>\n",
       "      <td>C</td>\n",
       "      <td>B</td>\n",
       "    </tr>\n",
       "    <tr>\n",
       "      <th>1</th>\n",
       "      <td>190001421546</td>\n",
       "      <td>2019</td>\n",
       "      <td>2910800</td>\n",
       "      <td>Feira de Santana</td>\n",
       "      <td>29</td>\n",
       "      <td>BA</td>\n",
       "      <td>23.00</td>\n",
       "      <td>M</td>\n",
       "      <td>1</td>\n",
       "      <td>1</td>\n",
       "      <td>...</td>\n",
       "      <td>A</td>\n",
       "      <td>A</td>\n",
       "      <td>A</td>\n",
       "      <td>B</td>\n",
       "      <td>A</td>\n",
       "      <td>A</td>\n",
       "      <td>E</td>\n",
       "      <td>A</td>\n",
       "      <td>A</td>\n",
       "      <td>B</td>\n",
       "    </tr>\n",
       "    <tr>\n",
       "      <th>2</th>\n",
       "      <td>190001133210</td>\n",
       "      <td>2019</td>\n",
       "      <td>2304400</td>\n",
       "      <td>Fortaleza</td>\n",
       "      <td>23</td>\n",
       "      <td>CE</td>\n",
       "      <td>39.00</td>\n",
       "      <td>F</td>\n",
       "      <td>1</td>\n",
       "      <td>3</td>\n",
       "      <td>...</td>\n",
       "      <td>A</td>\n",
       "      <td>A</td>\n",
       "      <td>A</td>\n",
       "      <td>B</td>\n",
       "      <td>A</td>\n",
       "      <td>A</td>\n",
       "      <td>C</td>\n",
       "      <td>A</td>\n",
       "      <td>A</td>\n",
       "      <td>B</td>\n",
       "    </tr>\n",
       "    <tr>\n",
       "      <th>3</th>\n",
       "      <td>190001199383</td>\n",
       "      <td>2019</td>\n",
       "      <td>1721000</td>\n",
       "      <td>Palmas</td>\n",
       "      <td>17</td>\n",
       "      <td>TO</td>\n",
       "      <td>25.00</td>\n",
       "      <td>F</td>\n",
       "      <td>1</td>\n",
       "      <td>1</td>\n",
       "      <td>...</td>\n",
       "      <td>A</td>\n",
       "      <td>A</td>\n",
       "      <td>A</td>\n",
       "      <td>C</td>\n",
       "      <td>A</td>\n",
       "      <td>B</td>\n",
       "      <td>D</td>\n",
       "      <td>A</td>\n",
       "      <td>B</td>\n",
       "      <td>B</td>\n",
       "    </tr>\n",
       "    <tr>\n",
       "      <th>4</th>\n",
       "      <td>190001237802</td>\n",
       "      <td>2019</td>\n",
       "      <td>3118601</td>\n",
       "      <td>Contagem</td>\n",
       "      <td>31</td>\n",
       "      <td>MG</td>\n",
       "      <td>22.00</td>\n",
       "      <td>F</td>\n",
       "      <td>1</td>\n",
       "      <td>1</td>\n",
       "      <td>...</td>\n",
       "      <td>B</td>\n",
       "      <td>A</td>\n",
       "      <td>A</td>\n",
       "      <td>B</td>\n",
       "      <td>A</td>\n",
       "      <td>A</td>\n",
       "      <td>C</td>\n",
       "      <td>B</td>\n",
       "      <td>B</td>\n",
       "      <td>B</td>\n",
       "    </tr>\n",
       "  </tbody>\n",
       "</table>\n",
       "<p>5 rows × 136 columns</p>\n",
       "</div>"
      ],
      "text/plain": [
       "   NU_INSCRICAO  NU_ANO  CO_MUNICIPIO_RESIDENCIA NO_MUNICIPIO_RESIDENCIA  \\\n",
       "0  190001595656    2019                  3552205                Sorocaba   \n",
       "1  190001421546    2019                  2910800        Feira de Santana   \n",
       "2  190001133210    2019                  2304400               Fortaleza   \n",
       "3  190001199383    2019                  1721000                  Palmas   \n",
       "4  190001237802    2019                  3118601                Contagem   \n",
       "\n",
       "   CO_UF_RESIDENCIA SG_UF_RESIDENCIA  NU_IDADE TP_SEXO  TP_ESTADO_CIVIL  \\\n",
       "0                35               SP     36.00       M                1   \n",
       "1                29               BA     23.00       M                1   \n",
       "2                23               CE     39.00       F                1   \n",
       "3                17               TO     25.00       F                1   \n",
       "4                31               MG     22.00       F                1   \n",
       "\n",
       "   TP_COR_RACA  ...  Q016  Q017 Q018  Q019 Q020  Q021  Q022  Q023  Q024  Q025  \n",
       "0            3  ...     A     A    A     A    A     A     C     A     C     B  \n",
       "1            1  ...     A     A    A     B    A     A     E     A     A     B  \n",
       "2            3  ...     A     A    A     B    A     A     C     A     A     B  \n",
       "3            1  ...     A     A    A     C    A     B     D     A     B     B  \n",
       "4            1  ...     B     A    A     B    A     A     C     B     B     B  \n",
       "\n",
       "[5 rows x 136 columns]"
      ]
     },
     "execution_count": 4,
     "metadata": {},
     "output_type": "execute_result"
    }
   ],
   "source": [
    "df.head()"
   ]
  },
  {
   "cell_type": "code",
   "execution_count": 131,
   "id": "35772b89",
   "metadata": {},
   "outputs": [
    {
     "name": "stdout",
     "output_type": "stream",
     "text": [
      "Data Frame df contendo 5095270 linhas e 136 colunas\n"
     ]
    }
   ],
   "source": [
    "print('Data Frame df contendo',df.shape[0],'linhas e',df.shape[1],'colunas')"
   ]
  },
  {
   "cell_type": "code",
   "execution_count": 9,
   "id": "b3d3ad13",
   "metadata": {},
   "outputs": [
    {
     "data": {
      "text/plain": [
       "NU_INSCRICAO                int64\n",
       "NU_ANO                      int64\n",
       "CO_MUNICIPIO_RESIDENCIA     int64\n",
       "NO_MUNICIPIO_RESIDENCIA    object\n",
       "CO_UF_RESIDENCIA            int64\n",
       "                            ...  \n",
       "Q021                       object\n",
       "Q022                       object\n",
       "Q023                       object\n",
       "Q024                       object\n",
       "Q025                       object\n",
       "Length: 136, dtype: object"
      ]
     },
     "execution_count": 9,
     "metadata": {},
     "output_type": "execute_result"
    }
   ],
   "source": [
    "df.dtypes"
   ]
  },
  {
   "cell_type": "code",
   "execution_count": 68,
   "id": "6de2415b",
   "metadata": {},
   "outputs": [
    {
     "name": "stdout",
     "output_type": "stream",
     "text": [
      "Data Frame contendo 5095270 linhas e 12 colunas\n"
     ]
    }
   ],
   "source": [
    "# Selecionando as 12 variáveis que iremos utilizar\n",
    "enem_2019 = df[['SG_UF_RESIDENCIA','NU_IDADE','TP_SEXO','TP_COR_RACA',\n",
    "                'NU_NOTA_MT','NU_NOTA_CH','NU_NOTA_REDACAO','NU_NOTA_CN', ''\n",
    "         'Q025','Q001', \n",
    "         'Q006','Q002']]\n",
    "print('Data Frame contendo',enem_2019.shape[0],'linhas e',enem_2019.shape[1],'colunas')"
   ]
  },
  {
   "cell_type": "code",
   "execution_count": 69,
   "id": "27a4cbf9",
   "metadata": {},
   "outputs": [
    {
     "data": {
      "text/html": [
       "<div>\n",
       "<style scoped>\n",
       "    .dataframe tbody tr th:only-of-type {\n",
       "        vertical-align: middle;\n",
       "    }\n",
       "\n",
       "    .dataframe tbody tr th {\n",
       "        vertical-align: top;\n",
       "    }\n",
       "\n",
       "    .dataframe thead th {\n",
       "        text-align: right;\n",
       "    }\n",
       "</style>\n",
       "<table border=\"1\" class=\"dataframe\">\n",
       "  <thead>\n",
       "    <tr style=\"text-align: right;\">\n",
       "      <th></th>\n",
       "      <th>SG_UF_RESIDENCIA</th>\n",
       "      <th>NU_IDADE</th>\n",
       "      <th>TP_SEXO</th>\n",
       "      <th>TP_COR_RACA</th>\n",
       "      <th>NU_NOTA_MT</th>\n",
       "      <th>NU_NOTA_CH</th>\n",
       "      <th>NU_NOTA_REDACAO</th>\n",
       "      <th>NU_NOTA_CN</th>\n",
       "      <th>Q025</th>\n",
       "      <th>Q001</th>\n",
       "      <th>Q006</th>\n",
       "      <th>Q002</th>\n",
       "    </tr>\n",
       "  </thead>\n",
       "  <tbody>\n",
       "    <tr>\n",
       "      <th>0</th>\n",
       "      <td>SP</td>\n",
       "      <td>36.00</td>\n",
       "      <td>M</td>\n",
       "      <td>3</td>\n",
       "      <td>NaN</td>\n",
       "      <td>NaN</td>\n",
       "      <td>NaN</td>\n",
       "      <td>NaN</td>\n",
       "      <td>B</td>\n",
       "      <td>B</td>\n",
       "      <td>A</td>\n",
       "      <td>B</td>\n",
       "    </tr>\n",
       "    <tr>\n",
       "      <th>1</th>\n",
       "      <td>BA</td>\n",
       "      <td>23.00</td>\n",
       "      <td>M</td>\n",
       "      <td>1</td>\n",
       "      <td>NaN</td>\n",
       "      <td>NaN</td>\n",
       "      <td>NaN</td>\n",
       "      <td>NaN</td>\n",
       "      <td>B</td>\n",
       "      <td>C</td>\n",
       "      <td>C</td>\n",
       "      <td>E</td>\n",
       "    </tr>\n",
       "    <tr>\n",
       "      <th>2</th>\n",
       "      <td>CE</td>\n",
       "      <td>39.00</td>\n",
       "      <td>F</td>\n",
       "      <td>3</td>\n",
       "      <td>NaN</td>\n",
       "      <td>NaN</td>\n",
       "      <td>NaN</td>\n",
       "      <td>NaN</td>\n",
       "      <td>B</td>\n",
       "      <td>E</td>\n",
       "      <td>B</td>\n",
       "      <td>E</td>\n",
       "    </tr>\n",
       "    <tr>\n",
       "      <th>3</th>\n",
       "      <td>TO</td>\n",
       "      <td>25.00</td>\n",
       "      <td>F</td>\n",
       "      <td>1</td>\n",
       "      <td>392.00</td>\n",
       "      <td>503.60</td>\n",
       "      <td>460.00</td>\n",
       "      <td>483.80</td>\n",
       "      <td>B</td>\n",
       "      <td>C</td>\n",
       "      <td>E</td>\n",
       "      <td>E</td>\n",
       "    </tr>\n",
       "    <tr>\n",
       "      <th>4</th>\n",
       "      <td>MG</td>\n",
       "      <td>22.00</td>\n",
       "      <td>F</td>\n",
       "      <td>1</td>\n",
       "      <td>677.00</td>\n",
       "      <td>575.50</td>\n",
       "      <td>860.00</td>\n",
       "      <td>513.60</td>\n",
       "      <td>B</td>\n",
       "      <td>E</td>\n",
       "      <td>G</td>\n",
       "      <td>E</td>\n",
       "    </tr>\n",
       "  </tbody>\n",
       "</table>\n",
       "</div>"
      ],
      "text/plain": [
       "  SG_UF_RESIDENCIA  NU_IDADE TP_SEXO  TP_COR_RACA  NU_NOTA_MT  NU_NOTA_CH  \\\n",
       "0               SP     36.00       M            3         NaN         NaN   \n",
       "1               BA     23.00       M            1         NaN         NaN   \n",
       "2               CE     39.00       F            3         NaN         NaN   \n",
       "3               TO     25.00       F            1      392.00      503.60   \n",
       "4               MG     22.00       F            1      677.00      575.50   \n",
       "\n",
       "   NU_NOTA_REDACAO  NU_NOTA_CN Q025 Q001 Q006 Q002  \n",
       "0              NaN         NaN    B    B    A    B  \n",
       "1              NaN         NaN    B    C    C    E  \n",
       "2              NaN         NaN    B    E    B    E  \n",
       "3           460.00      483.80    B    C    E    E  \n",
       "4           860.00      513.60    B    E    G    E  "
      ]
     },
     "execution_count": 69,
     "metadata": {},
     "output_type": "execute_result"
    }
   ],
   "source": [
    "enem_2019.head()"
   ]
  },
  {
   "cell_type": "code",
   "execution_count": 70,
   "id": "37df94c2",
   "metadata": {
    "scrolled": true
   },
   "outputs": [
    {
     "data": {
      "text/html": [
       "<div>\n",
       "<style scoped>\n",
       "    .dataframe tbody tr th:only-of-type {\n",
       "        vertical-align: middle;\n",
       "    }\n",
       "\n",
       "    .dataframe tbody tr th {\n",
       "        vertical-align: top;\n",
       "    }\n",
       "\n",
       "    .dataframe thead th {\n",
       "        text-align: right;\n",
       "    }\n",
       "</style>\n",
       "<table border=\"1\" class=\"dataframe\">\n",
       "  <thead>\n",
       "    <tr style=\"text-align: right;\">\n",
       "      <th></th>\n",
       "      <th>tipos</th>\n",
       "      <th>missing</th>\n",
       "    </tr>\n",
       "  </thead>\n",
       "  <tbody>\n",
       "    <tr>\n",
       "      <th>SG_UF_RESIDENCIA</th>\n",
       "      <td>object</td>\n",
       "      <td>0</td>\n",
       "    </tr>\n",
       "    <tr>\n",
       "      <th>NU_IDADE</th>\n",
       "      <td>float64</td>\n",
       "      <td>69</td>\n",
       "    </tr>\n",
       "    <tr>\n",
       "      <th>TP_SEXO</th>\n",
       "      <td>object</td>\n",
       "      <td>0</td>\n",
       "    </tr>\n",
       "    <tr>\n",
       "      <th>TP_COR_RACA</th>\n",
       "      <td>int64</td>\n",
       "      <td>0</td>\n",
       "    </tr>\n",
       "    <tr>\n",
       "      <th>NU_NOTA_MT</th>\n",
       "      <td>float64</td>\n",
       "      <td>1384837</td>\n",
       "    </tr>\n",
       "    <tr>\n",
       "      <th>NU_NOTA_CH</th>\n",
       "      <td>float64</td>\n",
       "      <td>1172125</td>\n",
       "    </tr>\n",
       "    <tr>\n",
       "      <th>NU_NOTA_REDACAO</th>\n",
       "      <td>float64</td>\n",
       "      <td>1172126</td>\n",
       "    </tr>\n",
       "    <tr>\n",
       "      <th>NU_NOTA_CN</th>\n",
       "      <td>float64</td>\n",
       "      <td>1384837</td>\n",
       "    </tr>\n",
       "    <tr>\n",
       "      <th>Q025</th>\n",
       "      <td>object</td>\n",
       "      <td>0</td>\n",
       "    </tr>\n",
       "    <tr>\n",
       "      <th>Q001</th>\n",
       "      <td>object</td>\n",
       "      <td>0</td>\n",
       "    </tr>\n",
       "    <tr>\n",
       "      <th>Q006</th>\n",
       "      <td>object</td>\n",
       "      <td>0</td>\n",
       "    </tr>\n",
       "    <tr>\n",
       "      <th>Q002</th>\n",
       "      <td>object</td>\n",
       "      <td>0</td>\n",
       "    </tr>\n",
       "  </tbody>\n",
       "</table>\n",
       "</div>"
      ],
      "text/plain": [
       "                    tipos  missing\n",
       "SG_UF_RESIDENCIA   object        0\n",
       "NU_IDADE          float64       69\n",
       "TP_SEXO            object        0\n",
       "TP_COR_RACA         int64        0\n",
       "NU_NOTA_MT        float64  1384837\n",
       "NU_NOTA_CH        float64  1172125\n",
       "NU_NOTA_REDACAO   float64  1172126\n",
       "NU_NOTA_CN        float64  1384837\n",
       "Q025               object        0\n",
       "Q001               object        0\n",
       "Q006               object        0\n",
       "Q002               object        0"
      ]
     },
     "execution_count": 70,
     "metadata": {},
     "output_type": "execute_result"
    }
   ],
   "source": [
    "# Percentual de Nulos (missings) por coluna\n",
    "pd.DataFrame({'tipos':enem_2019.dtypes, 'missing':enem_2019.isna().sum()})"
   ]
  },
  {
   "cell_type": "code",
   "execution_count": 214,
   "id": "268324eb",
   "metadata": {},
   "outputs": [
    {
     "name": "stdout",
     "output_type": "stream",
     "text": [
      "Data Frame enem contendo 3701947 linhas e 12 colunas\n"
     ]
    }
   ],
   "source": [
    "# Foram excluídos candidatos faltantes em pelo menos uma prova\n",
    "enem =enem_2019.dropna()\n",
    "print('Data Frame enem contendo',enem.shape[0],'linhas e',enem.shape[1],'colunas')"
   ]
  },
  {
   "cell_type": "code",
   "execution_count": 215,
   "id": "f62e7133",
   "metadata": {},
   "outputs": [
    {
     "data": {
      "text/html": [
       "<div>\n",
       "<style scoped>\n",
       "    .dataframe tbody tr th:only-of-type {\n",
       "        vertical-align: middle;\n",
       "    }\n",
       "\n",
       "    .dataframe tbody tr th {\n",
       "        vertical-align: top;\n",
       "    }\n",
       "\n",
       "    .dataframe thead th {\n",
       "        text-align: right;\n",
       "    }\n",
       "</style>\n",
       "<table border=\"1\" class=\"dataframe\">\n",
       "  <thead>\n",
       "    <tr style=\"text-align: right;\">\n",
       "      <th></th>\n",
       "      <th>tipos</th>\n",
       "      <th>missing</th>\n",
       "    </tr>\n",
       "  </thead>\n",
       "  <tbody>\n",
       "    <tr>\n",
       "      <th>SG_UF_RESIDENCIA</th>\n",
       "      <td>object</td>\n",
       "      <td>0</td>\n",
       "    </tr>\n",
       "    <tr>\n",
       "      <th>NU_IDADE</th>\n",
       "      <td>float64</td>\n",
       "      <td>0</td>\n",
       "    </tr>\n",
       "    <tr>\n",
       "      <th>TP_SEXO</th>\n",
       "      <td>object</td>\n",
       "      <td>0</td>\n",
       "    </tr>\n",
       "    <tr>\n",
       "      <th>TP_COR_RACA</th>\n",
       "      <td>int64</td>\n",
       "      <td>0</td>\n",
       "    </tr>\n",
       "    <tr>\n",
       "      <th>NU_NOTA_MT</th>\n",
       "      <td>float64</td>\n",
       "      <td>0</td>\n",
       "    </tr>\n",
       "    <tr>\n",
       "      <th>NU_NOTA_CH</th>\n",
       "      <td>float64</td>\n",
       "      <td>0</td>\n",
       "    </tr>\n",
       "    <tr>\n",
       "      <th>NU_NOTA_REDACAO</th>\n",
       "      <td>float64</td>\n",
       "      <td>0</td>\n",
       "    </tr>\n",
       "    <tr>\n",
       "      <th>NU_NOTA_CN</th>\n",
       "      <td>float64</td>\n",
       "      <td>0</td>\n",
       "    </tr>\n",
       "    <tr>\n",
       "      <th>Q025</th>\n",
       "      <td>object</td>\n",
       "      <td>0</td>\n",
       "    </tr>\n",
       "    <tr>\n",
       "      <th>Q001</th>\n",
       "      <td>object</td>\n",
       "      <td>0</td>\n",
       "    </tr>\n",
       "    <tr>\n",
       "      <th>Q006</th>\n",
       "      <td>object</td>\n",
       "      <td>0</td>\n",
       "    </tr>\n",
       "    <tr>\n",
       "      <th>Q002</th>\n",
       "      <td>object</td>\n",
       "      <td>0</td>\n",
       "    </tr>\n",
       "  </tbody>\n",
       "</table>\n",
       "</div>"
      ],
      "text/plain": [
       "                    tipos  missing\n",
       "SG_UF_RESIDENCIA   object        0\n",
       "NU_IDADE          float64        0\n",
       "TP_SEXO            object        0\n",
       "TP_COR_RACA         int64        0\n",
       "NU_NOTA_MT        float64        0\n",
       "NU_NOTA_CH        float64        0\n",
       "NU_NOTA_REDACAO   float64        0\n",
       "NU_NOTA_CN        float64        0\n",
       "Q025               object        0\n",
       "Q001               object        0\n",
       "Q006               object        0\n",
       "Q002               object        0"
      ]
     },
     "execution_count": 215,
     "metadata": {},
     "output_type": "execute_result"
    }
   ],
   "source": [
    "# Percentual de Nulos (missings) por coluna\n",
    "pd.DataFrame({'tipos':enem.dtypes, 'missing':enem.isna().sum()})"
   ]
  },
  {
   "cell_type": "code",
   "execution_count": 134,
   "id": "4795132b",
   "metadata": {},
   "outputs": [
    {
     "data": {
      "text/html": [
       "<div>\n",
       "<style scoped>\n",
       "    .dataframe tbody tr th:only-of-type {\n",
       "        vertical-align: middle;\n",
       "    }\n",
       "\n",
       "    .dataframe tbody tr th {\n",
       "        vertical-align: top;\n",
       "    }\n",
       "\n",
       "    .dataframe thead th {\n",
       "        text-align: right;\n",
       "    }\n",
       "</style>\n",
       "<table border=\"1\" class=\"dataframe\">\n",
       "  <thead>\n",
       "    <tr style=\"text-align: right;\">\n",
       "      <th></th>\n",
       "      <th>SG_UF_RESIDENCIA</th>\n",
       "      <th>NU_IDADE</th>\n",
       "      <th>TP_SEXO</th>\n",
       "      <th>TP_COR_RACA</th>\n",
       "      <th>NU_NOTA_MT</th>\n",
       "      <th>NU_NOTA_CH</th>\n",
       "      <th>NU_NOTA_REDACAO</th>\n",
       "      <th>NU_NOTA_CN</th>\n",
       "      <th>Q025</th>\n",
       "      <th>Q001</th>\n",
       "      <th>Q006</th>\n",
       "      <th>Q002</th>\n",
       "    </tr>\n",
       "  </thead>\n",
       "  <tbody>\n",
       "    <tr>\n",
       "      <th>5095257</th>\n",
       "      <td>MT</td>\n",
       "      <td>20.00</td>\n",
       "      <td>M</td>\n",
       "      <td>1</td>\n",
       "      <td>531.10</td>\n",
       "      <td>427.30</td>\n",
       "      <td>540.00</td>\n",
       "      <td>391.20</td>\n",
       "      <td>B</td>\n",
       "      <td>B</td>\n",
       "      <td>G</td>\n",
       "      <td>E</td>\n",
       "    </tr>\n",
       "    <tr>\n",
       "      <th>5095259</th>\n",
       "      <td>PI</td>\n",
       "      <td>37.00</td>\n",
       "      <td>F</td>\n",
       "      <td>4</td>\n",
       "      <td>423.40</td>\n",
       "      <td>485.90</td>\n",
       "      <td>480.00</td>\n",
       "      <td>414.60</td>\n",
       "      <td>A</td>\n",
       "      <td>A</td>\n",
       "      <td>C</td>\n",
       "      <td>A</td>\n",
       "    </tr>\n",
       "    <tr>\n",
       "      <th>5095260</th>\n",
       "      <td>SP</td>\n",
       "      <td>17.00</td>\n",
       "      <td>F</td>\n",
       "      <td>1</td>\n",
       "      <td>390.70</td>\n",
       "      <td>407.40</td>\n",
       "      <td>460.00</td>\n",
       "      <td>370.30</td>\n",
       "      <td>A</td>\n",
       "      <td>E</td>\n",
       "      <td>B</td>\n",
       "      <td>E</td>\n",
       "    </tr>\n",
       "    <tr>\n",
       "      <th>5095263</th>\n",
       "      <td>PA</td>\n",
       "      <td>33.00</td>\n",
       "      <td>F</td>\n",
       "      <td>3</td>\n",
       "      <td>498.30</td>\n",
       "      <td>507.80</td>\n",
       "      <td>540.00</td>\n",
       "      <td>499.60</td>\n",
       "      <td>A</td>\n",
       "      <td>H</td>\n",
       "      <td>E</td>\n",
       "      <td>E</td>\n",
       "    </tr>\n",
       "    <tr>\n",
       "      <th>5095264</th>\n",
       "      <td>SP</td>\n",
       "      <td>17.00</td>\n",
       "      <td>F</td>\n",
       "      <td>3</td>\n",
       "      <td>389.50</td>\n",
       "      <td>475.00</td>\n",
       "      <td>280.00</td>\n",
       "      <td>409.00</td>\n",
       "      <td>B</td>\n",
       "      <td>H</td>\n",
       "      <td>D</td>\n",
       "      <td>E</td>\n",
       "    </tr>\n",
       "  </tbody>\n",
       "</table>\n",
       "</div>"
      ],
      "text/plain": [
       "        SG_UF_RESIDENCIA  NU_IDADE TP_SEXO  TP_COR_RACA  NU_NOTA_MT  \\\n",
       "5095257               MT     20.00       M            1      531.10   \n",
       "5095259               PI     37.00       F            4      423.40   \n",
       "5095260               SP     17.00       F            1      390.70   \n",
       "5095263               PA     33.00       F            3      498.30   \n",
       "5095264               SP     17.00       F            3      389.50   \n",
       "\n",
       "         NU_NOTA_CH  NU_NOTA_REDACAO  NU_NOTA_CN Q025 Q001 Q006 Q002  \n",
       "5095257      427.30           540.00      391.20    B    B    G    E  \n",
       "5095259      485.90           480.00      414.60    A    A    C    A  \n",
       "5095260      407.40           460.00      370.30    A    E    B    E  \n",
       "5095263      507.80           540.00      499.60    A    H    E    E  \n",
       "5095264      475.00           280.00      409.00    B    H    D    E  "
      ]
     },
     "execution_count": 134,
     "metadata": {},
     "output_type": "execute_result"
    }
   ],
   "source": [
    "enem.tail()"
   ]
  },
  {
   "cell_type": "markdown",
   "id": "15e9e49b",
   "metadata": {},
   "source": [
    "#  Tratando Variáveis "
   ]
  },
  {
   "cell_type": "code",
   "execution_count": 137,
   "id": "e714acce",
   "metadata": {
    "scrolled": true
   },
   "outputs": [
    {
     "name": "stderr",
     "output_type": "stream",
     "text": [
      "C:\\Users\\Carlos\\AppData\\Local\\Temp/ipykernel_7676/2682213625.py:1: SettingWithCopyWarning: \n",
      "A value is trying to be set on a copy of a slice from a DataFrame.\n",
      "Try using .loc[row_indexer,col_indexer] = value instead\n",
      "\n",
      "See the caveats in the documentation: https://pandas.pydata.org/pandas-docs/stable/user_guide/indexing.html#returning-a-view-versus-a-copy\n",
      "  enem['TP_COR_RACA'] = enem['TP_COR_RACA'].map({0:'NA', 6:'NA', 1:'Branca', 2:'Preta', 3:'Parda',\n"
     ]
    }
   ],
   "source": [
    "enem['TP_COR_RACA'] = enem['TP_COR_RACA'].map({0:'NA', 6:'NA', 1:'Branca', 2:'Preta', 3:'Parda',\n",
    "                                               4:'Amarela', 5:'Indígena'})"
   ]
  },
  {
   "cell_type": "code",
   "execution_count": 138,
   "id": "6fe6da78",
   "metadata": {},
   "outputs": [
    {
     "name": "stderr",
     "output_type": "stream",
     "text": [
      "C:\\Users\\Carlos\\AppData\\Local\\Temp/ipykernel_7676/508930023.py:2: SettingWithCopyWarning: \n",
      "A value is trying to be set on a copy of a slice from a DataFrame.\n",
      "Try using .loc[row_indexer,col_indexer] = value instead\n",
      "\n",
      "See the caveats in the documentation: https://pandas.pydata.org/pandas-docs/stable/user_guide/indexing.html#returning-a-view-versus-a-copy\n",
      "  enem['Q025'] = enem['Q025'].map({'A':'Não', 'B':'Sim'})\n"
     ]
    }
   ],
   "source": [
    "# Questão 25 : Possui internet em casa?\n",
    "enem['Q025'] = enem['Q025'].map({'A':'Não', 'B':'Sim'})"
   ]
  },
  {
   "cell_type": "code",
   "execution_count": 139,
   "id": "1c7dae28",
   "metadata": {},
   "outputs": [
    {
     "name": "stderr",
     "output_type": "stream",
     "text": [
      "C:\\Users\\Carlos\\AppData\\Local\\Temp/ipykernel_7676/1421352271.py:2: SettingWithCopyWarning: \n",
      "A value is trying to be set on a copy of a slice from a DataFrame.\n",
      "Try using .loc[row_indexer,col_indexer] = value instead\n",
      "\n",
      "See the caveats in the documentation: https://pandas.pydata.org/pandas-docs/stable/user_guide/indexing.html#returning-a-view-versus-a-copy\n",
      "  enem['Q002'] = enem['Q002'].map({'A':'Nunca estudou', 'B':'Não completou EF', 'C':'Não completou EF',\n"
     ]
    }
   ],
   "source": [
    "# Questão 2 : Escolaridade da mãe\n",
    "enem['Q002'] = enem['Q002'].map({'A':'Nunca estudou', 'B':'Não completou EF', 'C':'Não completou EF',\n",
    "                                'D':'Não completou EM', 'E':'Não completou ES', 'F':'Graduada',\n",
    "                                'G':'Pós-graduada','H':'Não sabe'})"
   ]
  },
  {
   "cell_type": "code",
   "execution_count": 140,
   "id": "0a5f6482",
   "metadata": {},
   "outputs": [
    {
     "name": "stderr",
     "output_type": "stream",
     "text": [
      "C:\\Users\\Carlos\\AppData\\Local\\Temp/ipykernel_7676/1871894960.py:2: SettingWithCopyWarning: \n",
      "A value is trying to be set on a copy of a slice from a DataFrame.\n",
      "Try using .loc[row_indexer,col_indexer] = value instead\n",
      "\n",
      "See the caveats in the documentation: https://pandas.pydata.org/pandas-docs/stable/user_guide/indexing.html#returning-a-view-versus-a-copy\n",
      "  enem['Q001'] = enem['Q001'].map({'A':'Nunca estudou', 'B':'Não completou EF', 'C':'Não completou EF',\n"
     ]
    }
   ],
   "source": [
    "# Questão 1 : Escolaridade do pai\n",
    "enem['Q001'] = enem['Q001'].map({'A':'Nunca estudou', 'B':'Não completou EF', 'C':'Não completou EF',\n",
    "                                'D':'Não completou EM', 'E':'Não completou ES', 'F':'Graduada',\n",
    "                                'G':'Pós-graduada','H':'Não sabe'})"
   ]
  },
  {
   "cell_type": "code",
   "execution_count": 141,
   "id": "9f6b0687",
   "metadata": {},
   "outputs": [
    {
     "name": "stderr",
     "output_type": "stream",
     "text": [
      "C:\\Users\\Carlos\\AppData\\Local\\Temp/ipykernel_7676/767016085.py:2: SettingWithCopyWarning: \n",
      "A value is trying to be set on a copy of a slice from a DataFrame.\n",
      "Try using .loc[row_indexer,col_indexer] = value instead\n",
      "\n",
      "See the caveats in the documentation: https://pandas.pydata.org/pandas-docs/stable/user_guide/indexing.html#returning-a-view-versus-a-copy\n",
      "  enem['Q006'] = enem['Q006'].map({'A':'Nenhuma renda', 'B':'Até 1.320', 'C':'Até 1.320',\n"
     ]
    }
   ],
   "source": [
    "# Questão 6 : Renda familiar (incluindo a do aluno)\n",
    "enem['Q006'] = enem['Q006'].map({'A':'Nenhuma renda', 'B':'Até 1.320', 'C':'Até 1.320',\n",
    "                                 'D':'Até 3.520', 'E':'Até 3.520', 'F':'Até 3.520', 'G':'Até 3.520',\n",
    "                                 'H':'Até 10.560','I':'Até 10.560', 'J':'Até 10.560','K':'Até 10.560',\n",
    "                                 'L':'Até 10.560','M':'Até 10.560','N':'Até 10.560',\n",
    "                                 'O':'Mais de 10.560','P':'Mais de 10.560','Q':'Mais de 10.560'})"
   ]
  },
  {
   "cell_type": "code",
   "execution_count": 142,
   "id": "5223e360",
   "metadata": {
    "scrolled": true
   },
   "outputs": [
    {
     "data": {
      "text/html": [
       "<div>\n",
       "<style scoped>\n",
       "    .dataframe tbody tr th:only-of-type {\n",
       "        vertical-align: middle;\n",
       "    }\n",
       "\n",
       "    .dataframe tbody tr th {\n",
       "        vertical-align: top;\n",
       "    }\n",
       "\n",
       "    .dataframe thead th {\n",
       "        text-align: right;\n",
       "    }\n",
       "</style>\n",
       "<table border=\"1\" class=\"dataframe\">\n",
       "  <thead>\n",
       "    <tr style=\"text-align: right;\">\n",
       "      <th></th>\n",
       "      <th>SG_UF_RESIDENCIA</th>\n",
       "      <th>NU_IDADE</th>\n",
       "      <th>TP_SEXO</th>\n",
       "      <th>TP_COR_RACA</th>\n",
       "      <th>NU_NOTA_MT</th>\n",
       "      <th>NU_NOTA_CH</th>\n",
       "      <th>NU_NOTA_REDACAO</th>\n",
       "      <th>NU_NOTA_CN</th>\n",
       "      <th>Q025</th>\n",
       "      <th>Q001</th>\n",
       "      <th>Q006</th>\n",
       "      <th>Q002</th>\n",
       "    </tr>\n",
       "  </thead>\n",
       "  <tbody>\n",
       "    <tr>\n",
       "      <th>5095257</th>\n",
       "      <td>MT</td>\n",
       "      <td>20.00</td>\n",
       "      <td>M</td>\n",
       "      <td>Branca</td>\n",
       "      <td>531.10</td>\n",
       "      <td>427.30</td>\n",
       "      <td>540.00</td>\n",
       "      <td>391.20</td>\n",
       "      <td>Sim</td>\n",
       "      <td>Não completou EF</td>\n",
       "      <td>Até 3.520</td>\n",
       "      <td>Não completou ES</td>\n",
       "    </tr>\n",
       "    <tr>\n",
       "      <th>5095259</th>\n",
       "      <td>PI</td>\n",
       "      <td>37.00</td>\n",
       "      <td>F</td>\n",
       "      <td>Amarela</td>\n",
       "      <td>423.40</td>\n",
       "      <td>485.90</td>\n",
       "      <td>480.00</td>\n",
       "      <td>414.60</td>\n",
       "      <td>Não</td>\n",
       "      <td>Nunca estudou</td>\n",
       "      <td>Até 1.320</td>\n",
       "      <td>Nunca estudou</td>\n",
       "    </tr>\n",
       "    <tr>\n",
       "      <th>5095260</th>\n",
       "      <td>SP</td>\n",
       "      <td>17.00</td>\n",
       "      <td>F</td>\n",
       "      <td>Branca</td>\n",
       "      <td>390.70</td>\n",
       "      <td>407.40</td>\n",
       "      <td>460.00</td>\n",
       "      <td>370.30</td>\n",
       "      <td>Não</td>\n",
       "      <td>Não completou ES</td>\n",
       "      <td>Até 1.320</td>\n",
       "      <td>Não completou ES</td>\n",
       "    </tr>\n",
       "    <tr>\n",
       "      <th>5095263</th>\n",
       "      <td>PA</td>\n",
       "      <td>33.00</td>\n",
       "      <td>F</td>\n",
       "      <td>Parda</td>\n",
       "      <td>498.30</td>\n",
       "      <td>507.80</td>\n",
       "      <td>540.00</td>\n",
       "      <td>499.60</td>\n",
       "      <td>Não</td>\n",
       "      <td>Não sabe</td>\n",
       "      <td>Até 3.520</td>\n",
       "      <td>Não completou ES</td>\n",
       "    </tr>\n",
       "    <tr>\n",
       "      <th>5095264</th>\n",
       "      <td>SP</td>\n",
       "      <td>17.00</td>\n",
       "      <td>F</td>\n",
       "      <td>Parda</td>\n",
       "      <td>389.50</td>\n",
       "      <td>475.00</td>\n",
       "      <td>280.00</td>\n",
       "      <td>409.00</td>\n",
       "      <td>Sim</td>\n",
       "      <td>Não sabe</td>\n",
       "      <td>Até 3.520</td>\n",
       "      <td>Não completou ES</td>\n",
       "    </tr>\n",
       "  </tbody>\n",
       "</table>\n",
       "</div>"
      ],
      "text/plain": [
       "        SG_UF_RESIDENCIA  NU_IDADE TP_SEXO TP_COR_RACA  NU_NOTA_MT  \\\n",
       "5095257               MT     20.00       M      Branca      531.10   \n",
       "5095259               PI     37.00       F     Amarela      423.40   \n",
       "5095260               SP     17.00       F      Branca      390.70   \n",
       "5095263               PA     33.00       F       Parda      498.30   \n",
       "5095264               SP     17.00       F       Parda      389.50   \n",
       "\n",
       "         NU_NOTA_CH  NU_NOTA_REDACAO  NU_NOTA_CN Q025              Q001  \\\n",
       "5095257      427.30           540.00      391.20  Sim  Não completou EF   \n",
       "5095259      485.90           480.00      414.60  Não     Nunca estudou   \n",
       "5095260      407.40           460.00      370.30  Não  Não completou ES   \n",
       "5095263      507.80           540.00      499.60  Não          Não sabe   \n",
       "5095264      475.00           280.00      409.00  Sim          Não sabe   \n",
       "\n",
       "              Q006              Q002  \n",
       "5095257  Até 3.520  Não completou ES  \n",
       "5095259  Até 1.320     Nunca estudou  \n",
       "5095260  Até 1.320  Não completou ES  \n",
       "5095263  Até 3.520  Não completou ES  \n",
       "5095264  Até 3.520  Não completou ES  "
      ]
     },
     "execution_count": 142,
     "metadata": {},
     "output_type": "execute_result"
    }
   ],
   "source": [
    "enem.tail()"
   ]
  },
  {
   "cell_type": "markdown",
   "id": "8058e9f5",
   "metadata": {
    "scrolled": true
   },
   "source": [
    "#  Histogramas"
   ]
  },
  {
   "cell_type": "code",
   "execution_count": 143,
   "id": "8db1352a",
   "metadata": {},
   "outputs": [
    {
     "data": {
      "text/plain": [
       "F   59.46\n",
       "M   40.54\n",
       "Name: TP_SEXO, dtype: float64"
      ]
     },
     "execution_count": 143,
     "metadata": {},
     "output_type": "execute_result"
    }
   ],
   "source": [
    "enem['TP_SEXO'].value_counts()/enem.shape[0]*100"
   ]
  },
  {
   "cell_type": "code",
   "execution_count": 222,
   "id": "efce480a",
   "metadata": {},
   "outputs": [
    {
     "name": "stderr",
     "output_type": "stream",
     "text": [
      "C:\\Users\\Carlos\\anaconda3\\lib\\site-packages\\seaborn\\_decorators.py:36: FutureWarning: Pass the following variable as a keyword arg: x. From version 0.12, the only valid positional argument will be `data`, and passing other arguments without an explicit keyword will result in an error or misinterpretation.\n",
      "  warnings.warn(\n"
     ]
    },
    {
     "data": {
      "image/png": "[encoded data removed]",
      "text/plain": [
       "<Figure size 432x288 with 1 Axes>"
      ]
     },
     "metadata": {
      "needs_background": "light"
     },
     "output_type": "display_data"
    }
   ],
   "source": [
    "sns.countplot(enem['TP_SEXO'])\n",
    "plt.xlabel('Sexo')\n",
    "plt.ylabel(\"\")\n",
    "plt.show()"
   ]
  },
  {
   "cell_type": "code",
   "execution_count": 144,
   "id": "c223faec",
   "metadata": {},
   "outputs": [
    {
     "data": {
      "text/plain": [
       "Parda      45.76\n",
       "Branca     37.14\n",
       "Preta      12.24\n",
       "Amarela     2.29\n",
       "NA          1.98\n",
       "Indígena    0.58\n",
       "Name: TP_COR_RACA, dtype: float64"
      ]
     },
     "execution_count": 144,
     "metadata": {},
     "output_type": "execute_result"
    }
   ],
   "source": [
    "enem['TP_COR_RACA'].value_counts()/enem.shape[0]*100"
   ]
  },
  {
   "cell_type": "code",
   "execution_count": 145,
   "id": "6c5e1101",
   "metadata": {},
   "outputs": [
    {
     "name": "stderr",
     "output_type": "stream",
     "text": [
      "C:\\Users\\Carlos\\anaconda3\\lib\\site-packages\\seaborn\\_decorators.py:36: FutureWarning: Pass the following variable as a keyword arg: x. From version 0.12, the only valid positional argument will be `data`, and passing other arguments without an explicit keyword will result in an error or misinterpretation.\n",
      "  warnings.warn(\n"
     ]
    },
    {
     "data": {
      "image/png": "[encoded data removed]",
      "text/plain": [
       "<Figure size 432x288 with 1 Axes>"
      ]
     },
     "metadata": {
      "needs_background": "light"
     },
     "output_type": "display_data"
    }
   ],
   "source": [
    "sns.countplot(enem['TP_COR_RACA'])\n",
    "plt.xlabel('Cor/Raça')\n",
    "plt.ylabel(\"\")\n",
    "plt.show()"
   ]
  },
  {
   "cell_type": "code",
   "execution_count": 146,
   "id": "79eb412c",
   "metadata": {},
   "outputs": [
    {
     "name": "stderr",
     "output_type": "stream",
     "text": [
      "C:\\Users\\Carlos\\anaconda3\\lib\\site-packages\\seaborn\\_decorators.py:36: FutureWarning: Pass the following variable as a keyword arg: x. From version 0.12, the only valid positional argument will be `data`, and passing other arguments without an explicit keyword will result in an error or misinterpretation.\n",
      "  warnings.warn(\n"
     ]
    },
    {
     "data": {
      "image/png": "[encoded data removed]",
      "text/plain": [
       "<Figure size 432x288 with 1 Axes>"
      ]
     },
     "metadata": {
      "needs_background": "light"
     },
     "output_type": "display_data"
    }
   ],
   "source": [
    "sns.countplot(enem['TP_SEXO'],hue=enem['TP_COR_RACA'], dodge=True)\n",
    "plt.title('Sexo x Cor')\n",
    "plt.xlabel('')\n",
    "plt.ylabel(\"\")\n",
    "plt.legend(loc='best')\n",
    "plt.show()"
   ]
  },
  {
   "cell_type": "code",
   "execution_count": 147,
   "id": "1db452e3",
   "metadata": {},
   "outputs": [
    {
     "name": "stderr",
     "output_type": "stream",
     "text": [
      "C:\\Users\\Carlos\\anaconda3\\lib\\site-packages\\seaborn\\_decorators.py:36: FutureWarning: Pass the following variable as a keyword arg: x. From version 0.12, the only valid positional argument will be `data`, and passing other arguments without an explicit keyword will result in an error or misinterpretation.\n",
      "  warnings.warn(\n"
     ]
    },
    {
     "data": {
      "image/png": "[encoded data removed]",
      "text/plain": [
       "<Figure size 432x288 with 1 Axes>"
      ]
     },
     "metadata": {
      "needs_background": "light"
     },
     "output_type": "display_data"
    }
   ],
   "source": [
    "sns.countplot(enem['SG_UF_RESIDENCIA'], orient='h')\n",
    "plt.title('UF de Residência', size=15)\n",
    "plt.xticks(rotation=90)\n",
    "plt.xlabel(\"\")\n",
    "plt.ylabel(\"\")\n",
    "plt.show()"
   ]
  },
  {
   "cell_type": "code",
   "execution_count": 148,
   "id": "741d0fca",
   "metadata": {},
   "outputs": [
    {
     "data": {
      "text/plain": [
       "Sim   78.88\n",
       "Não   21.12\n",
       "Name: Q025, dtype: float64"
      ]
     },
     "execution_count": 148,
     "metadata": {},
     "output_type": "execute_result"
    }
   ],
   "source": [
    "#Possui internet em casa?\n",
    "enem['Q025'].value_counts()/enem.shape[0]*100"
   ]
  },
  {
   "cell_type": "code",
   "execution_count": 149,
   "id": "4c8991a8",
   "metadata": {},
   "outputs": [
    {
     "data": {
      "text/plain": [
       "Não completou ES   33.35\n",
       "Não completou EF   27.64\n",
       "Não completou EM   12.85\n",
       "Graduada           11.24\n",
       "Pós-graduada        9.00\n",
       "Nunca estudou       3.27\n",
       "Não sabe            2.64\n",
       "Name: Q002, dtype: float64"
      ]
     },
     "execution_count": 149,
     "metadata": {},
     "output_type": "execute_result"
    }
   ],
   "source": [
    "#Escolaridade da mãe\n",
    "enem['Q002'].value_counts()/enem.shape[0]*100"
   ]
  },
  {
   "cell_type": "code",
   "execution_count": 150,
   "id": "6e6f4044",
   "metadata": {},
   "outputs": [
    {
     "data": {
      "text/plain": [
       "Não completou EF   34.26\n",
       "Não completou ES   27.18\n",
       "Não completou EM   11.70\n",
       "Graduada            8.33\n",
       "Não sabe            8.27\n",
       "Pós-graduada        5.23\n",
       "Nunca estudou       5.03\n",
       "Name: Q001, dtype: float64"
      ]
     },
     "execution_count": 150,
     "metadata": {},
     "output_type": "execute_result"
    }
   ],
   "source": [
    "#Escolaridade do pai\n",
    "enem['Q001'].value_counts()/enem.shape[0]*100"
   ]
  },
  {
   "cell_type": "code",
   "execution_count": 151,
   "id": "ae855b3a",
   "metadata": {},
   "outputs": [
    {
     "name": "stderr",
     "output_type": "stream",
     "text": [
      "C:\\Users\\Carlos\\anaconda3\\lib\\site-packages\\seaborn\\_decorators.py:36: FutureWarning: Pass the following variable as a keyword arg: x. From version 0.12, the only valid positional argument will be `data`, and passing other arguments without an explicit keyword will result in an error or misinterpretation.\n",
      "  warnings.warn(\n"
     ]
    },
    {
     "data": {
      "image/png": "[encoded data removed]",
      "text/plain": [
       "<Figure size 432x288 with 1 Axes>"
      ]
     },
     "metadata": {
      "needs_background": "light"
     },
     "output_type": "display_data"
    }
   ],
   "source": [
    "sns.countplot(enem['Q002'])\n",
    "plt.title('Escolaridade da mãe')\n",
    "plt.xticks(rotation=90)\n",
    "plt.xlabel(\"\")\n",
    "plt.ylabel(\"\")\n",
    "plt.show()"
   ]
  },
  {
   "cell_type": "code",
   "execution_count": 152,
   "id": "694f508c",
   "metadata": {},
   "outputs": [
    {
     "name": "stderr",
     "output_type": "stream",
     "text": [
      "C:\\Users\\Carlos\\anaconda3\\lib\\site-packages\\seaborn\\_decorators.py:36: FutureWarning: Pass the following variable as a keyword arg: x. From version 0.12, the only valid positional argument will be `data`, and passing other arguments without an explicit keyword will result in an error or misinterpretation.\n",
      "  warnings.warn(\n"
     ]
    },
    {
     "data": {
      "image/png": "[encoded data removed]",
      "text/plain": [
       "<Figure size 432x288 with 1 Axes>"
      ]
     },
     "metadata": {
      "needs_background": "light"
     },
     "output_type": "display_data"
    }
   ],
   "source": [
    "sns.countplot(enem['Q001'])\n",
    "plt.title('Escolaridade do pai')\n",
    "plt.xticks(rotation=90)\n",
    "plt.xlabel(\"\")\n",
    "plt.ylabel(\"\")\n",
    "plt.show()"
   ]
  },
  {
   "cell_type": "code",
   "execution_count": 153,
   "id": "9bac6b40",
   "metadata": {},
   "outputs": [
    {
     "data": {
      "text/plain": [
       "Até 1.320        48.55\n",
       "Até 3.520        29.97\n",
       "Até 10.560       13.85\n",
       "Nenhuma renda     4.27\n",
       "Mais de 10.560    3.37\n",
       "Name: Q006, dtype: float64"
      ]
     },
     "execution_count": 153,
     "metadata": {},
     "output_type": "execute_result"
    }
   ],
   "source": [
    "#Renda da familia, incluindo a do aluno\n",
    "enem['Q006'].value_counts()/enem.shape[0]*100"
   ]
  },
  {
   "cell_type": "code",
   "execution_count": 154,
   "id": "9f72f852",
   "metadata": {},
   "outputs": [
    {
     "name": "stderr",
     "output_type": "stream",
     "text": [
      "C:\\Users\\Carlos\\anaconda3\\lib\\site-packages\\seaborn\\_decorators.py:36: FutureWarning: Pass the following variable as a keyword arg: x. From version 0.12, the only valid positional argument will be `data`, and passing other arguments without an explicit keyword will result in an error or misinterpretation.\n",
      "  warnings.warn(\n"
     ]
    },
    {
     "data": {
      "image/png": "[encoded data removed]",
      "text/plain": [
       "<Figure size 432x288 with 1 Axes>"
      ]
     },
     "metadata": {
      "needs_background": "light"
     },
     "output_type": "display_data"
    }
   ],
   "source": [
    "sns.countplot(enem['Q006'])\n",
    "plt.title('Renda familiar mensal')\n",
    "plt.xticks(rotation=90)\n",
    "plt.xlabel(\"\")\n",
    "plt.ylabel(\"\")\n",
    "plt.show()"
   ]
  },
  {
   "cell_type": "code",
   "execution_count": 155,
   "id": "3a6d9246",
   "metadata": {},
   "outputs": [
    {
     "name": "stderr",
     "output_type": "stream",
     "text": [
      "C:\\Users\\Carlos\\anaconda3\\lib\\site-packages\\seaborn\\distributions.py:2619: FutureWarning: `distplot` is a deprecated function and will be removed in a future version. Please adapt your code to use either `displot` (a figure-level function with similar flexibility) or `histplot` (an axes-level function for histograms).\n",
      "  warnings.warn(msg, FutureWarning)\n"
     ]
    },
    {
     "data": {
      "text/plain": [
       "Text(0.5, 1.0, 'Idade')"
      ]
     },
     "execution_count": 155,
     "metadata": {},
     "output_type": "execute_result"
    },
    {
     "data": {
      "image/png": "[encoded data removed]",
      "text/plain": [
       "<Figure size 432x288 with 1 Axes>"
      ]
     },
     "metadata": {
      "needs_background": "light"
     },
     "output_type": "display_data"
    }
   ],
   "source": [
    "sns.distplot(enem['NU_IDADE'], bins=20, rug=False, color='darkviolet').set_title('Idade')"
   ]
  },
  {
   "cell_type": "code",
   "execution_count": 156,
   "id": "b75eb7c0",
   "metadata": {},
   "outputs": [
    {
     "name": "stdout",
     "output_type": "stream",
     "text": [
      "Menor idade 10\n"
     ]
    }
   ],
   "source": [
    "print('Menor idade {:,.0f}'.format(enem['NU_IDADE'].min()))"
   ]
  },
  {
   "cell_type": "code",
   "execution_count": 157,
   "id": "a3985d75",
   "metadata": {},
   "outputs": [
    {
     "name": "stdout",
     "output_type": "stream",
     "text": [
      "Maior idade 92\n"
     ]
    }
   ],
   "source": [
    "print('Maior idade {:,.0f}'.format(enem['NU_IDADE'].max()))"
   ]
  },
  {
   "cell_type": "code",
   "execution_count": 158,
   "id": "7b098bb3",
   "metadata": {
    "scrolled": true
   },
   "outputs": [
    {
     "data": {
      "text/html": [
       "<div>\n",
       "<style scoped>\n",
       "    .dataframe tbody tr th:only-of-type {\n",
       "        vertical-align: middle;\n",
       "    }\n",
       "\n",
       "    .dataframe tbody tr th {\n",
       "        vertical-align: top;\n",
       "    }\n",
       "\n",
       "    .dataframe thead th {\n",
       "        text-align: right;\n",
       "    }\n",
       "</style>\n",
       "<table border=\"1\" class=\"dataframe\">\n",
       "  <thead>\n",
       "    <tr style=\"text-align: right;\">\n",
       "      <th></th>\n",
       "      <th>NU_IDADE</th>\n",
       "      <th>NU_NOTA_MT</th>\n",
       "      <th>NU_NOTA_CH</th>\n",
       "      <th>NU_NOTA_REDACAO</th>\n",
       "      <th>NU_NOTA_CN</th>\n",
       "    </tr>\n",
       "  </thead>\n",
       "  <tbody>\n",
       "    <tr>\n",
       "      <th>count</th>\n",
       "      <td>3,701,947.00</td>\n",
       "      <td>3,701,947.00</td>\n",
       "      <td>3,701,947.00</td>\n",
       "      <td>3,701,947.00</td>\n",
       "      <td>3,701,947.00</td>\n",
       "    </tr>\n",
       "    <tr>\n",
       "      <th>mean</th>\n",
       "      <td>21.17</td>\n",
       "      <td>523.19</td>\n",
       "      <td>509.89</td>\n",
       "      <td>579.77</td>\n",
       "      <td>477.88</td>\n",
       "    </tr>\n",
       "    <tr>\n",
       "      <th>std</th>\n",
       "      <td>6.95</td>\n",
       "      <td>109.03</td>\n",
       "      <td>80.98</td>\n",
       "      <td>182.51</td>\n",
       "      <td>76.05</td>\n",
       "    </tr>\n",
       "    <tr>\n",
       "      <th>min</th>\n",
       "      <td>10.00</td>\n",
       "      <td>0.00</td>\n",
       "      <td>0.00</td>\n",
       "      <td>0.00</td>\n",
       "      <td>0.00</td>\n",
       "    </tr>\n",
       "    <tr>\n",
       "      <th>25%</th>\n",
       "      <td>17.00</td>\n",
       "      <td>435.20</td>\n",
       "      <td>450.80</td>\n",
       "      <td>500.00</td>\n",
       "      <td>417.80</td>\n",
       "    </tr>\n",
       "    <tr>\n",
       "      <th>50%</th>\n",
       "      <td>19.00</td>\n",
       "      <td>501.10</td>\n",
       "      <td>513.40</td>\n",
       "      <td>580.00</td>\n",
       "      <td>470.30</td>\n",
       "    </tr>\n",
       "    <tr>\n",
       "      <th>75%</th>\n",
       "      <td>22.00</td>\n",
       "      <td>597.90</td>\n",
       "      <td>568.60</td>\n",
       "      <td>680.00</td>\n",
       "      <td>533.20</td>\n",
       "    </tr>\n",
       "    <tr>\n",
       "      <th>max</th>\n",
       "      <td>92.00</td>\n",
       "      <td>985.50</td>\n",
       "      <td>835.10</td>\n",
       "      <td>1,000.00</td>\n",
       "      <td>860.90</td>\n",
       "    </tr>\n",
       "  </tbody>\n",
       "</table>\n",
       "</div>"
      ],
      "text/plain": [
       "          NU_IDADE   NU_NOTA_MT   NU_NOTA_CH  NU_NOTA_REDACAO   NU_NOTA_CN\n",
       "count 3,701,947.00 3,701,947.00 3,701,947.00     3,701,947.00 3,701,947.00\n",
       "mean         21.17       523.19       509.89           579.77       477.88\n",
       "std           6.95       109.03        80.98           182.51        76.05\n",
       "min          10.00         0.00         0.00             0.00         0.00\n",
       "25%          17.00       435.20       450.80           500.00       417.80\n",
       "50%          19.00       501.10       513.40           580.00       470.30\n",
       "75%          22.00       597.90       568.60           680.00       533.20\n",
       "max          92.00       985.50       835.10         1,000.00       860.90"
      ]
     },
     "execution_count": 158,
     "metadata": {},
     "output_type": "execute_result"
    }
   ],
   "source": [
    "enem.describe()"
   ]
  },
  {
   "cell_type": "code",
   "execution_count": 180,
   "id": "9fa3db68",
   "metadata": {},
   "outputs": [
    {
     "data": {
      "image/png": "[encoded data removed]",
      "text/plain": [
       "<Figure size 432x288 with 1 Axes>"
      ]
     },
     "metadata": {
      "needs_background": "light"
     },
     "output_type": "display_data"
    }
   ],
   "source": [
    "plt.hist(enem['NU_NOTA_MT'], alpha=0.7, color='red')\n",
    "plt.hist(enem['NU_NOTA_REDACAO'], alpha=0.7, color='yellow')\n",
    "plt.title('Histograma das notas')\n",
    "plt.show()"
   ]
  },
  {
   "cell_type": "code",
   "execution_count": 160,
   "id": "a13361b7",
   "metadata": {},
   "outputs": [
    {
     "data": {
      "image/png": "[encoded data removed]",
      "text/plain": [
       "<Figure size 432x288 with 1 Axes>"
      ]
     },
     "metadata": {
      "needs_background": "light"
     },
     "output_type": "display_data"
    }
   ],
   "source": [
    "plt.hist(enem['NU_IDADE'],bins=15, histtype='bar', color='#3CB371')\n",
    "plt.title('Histograma da idade')\n",
    "plt.show()"
   ]
  },
  {
   "cell_type": "code",
   "execution_count": 161,
   "id": "f1b4a9e1",
   "metadata": {},
   "outputs": [
    {
     "data": {
      "image/png": "[encoded data removed]",
      "text/plain": [
       "<Figure size 432x288 with 1 Axes>"
      ]
     },
     "metadata": {
      "needs_background": "light"
     },
     "output_type": "display_data"
    }
   ],
   "source": [
    "plt.scatter(enem['NU_IDADE'], enem['NU_NOTA_REDACAO'], alpha=0.5)\n",
    "plt.title(\"Idade x Nota na prova de matemática\", size=30)\n",
    "plt.xlabel(\"Idade\")\n",
    "plt.ylabel(\"Nota de matemática\")\n",
    "plt.ylim(200) #ignorando as notas = 0\n",
    "plt.show()"
   ]
  },
  {
   "cell_type": "code",
   "execution_count": 162,
   "id": "f1b233b8",
   "metadata": {},
   "outputs": [
    {
     "data": {
      "image/png": "[encoded data removed]",
      "text/plain": [
       "<Figure size 432x288 with 1 Axes>"
      ]
     },
     "metadata": {
      "needs_background": "light"
     },
     "output_type": "display_data"
    }
   ],
   "source": [
    "plt.scatter(enem['NU_IDADE'], enem['NU_NOTA_CH'], alpha=0.5)\n",
    "plt.title(\"Idade x Nota na prova de humanas\", size=15)\n",
    "plt.xlabel(\"Idade\")\n",
    "plt.ylabel(\"Nota de matemática\")\n",
    "plt.ylim(200) #ignorando as notas = 0\n",
    "plt.show()"
   ]
  },
  {
   "cell_type": "code",
   "execution_count": 163,
   "id": "974e74c4",
   "metadata": {
    "scrolled": true
   },
   "outputs": [
    {
     "data": {
      "image/png": "[encoded data removed]",
      "text/plain": [
       "<Figure size 432x288 with 1 Axes>"
      ]
     },
     "metadata": {
      "needs_background": "light"
     },
     "output_type": "display_data"
    }
   ],
   "source": [
    "sns.boxplot(x=enem['TP_SEXO'], y=enem['NU_NOTA_MT'])\n",
    "plt.xlabel(\"Sexo\")\n",
    "plt.ylabel(\"Nota de Matemática\")\n",
    "plt.show()"
   ]
  },
  {
   "cell_type": "code",
   "execution_count": 164,
   "id": "42055406",
   "metadata": {
    "scrolled": true
   },
   "outputs": [
    {
     "data": {
      "image/png": "[encoded data removed]",
      "text/plain": [
       "<Figure size 432x288 with 1 Axes>"
      ]
     },
     "metadata": {
      "needs_background": "light"
     },
     "output_type": "display_data"
    }
   ],
   "source": [
    "sns.boxplot(x=enem['TP_SEXO'], y=enem['NU_NOTA_CH'])\n",
    "plt.xlabel(\"Sexo\")\n",
    "plt.ylabel(\"Nota de Ciências Humanas\")\n",
    "plt.show()"
   ]
  },
  {
   "cell_type": "code",
   "execution_count": 165,
   "id": "97f8aa42",
   "metadata": {},
   "outputs": [
    {
     "data": {
      "image/png": "[encoded data removed]",
      "text/plain": [
       "<Figure size 432x288 with 1 Axes>"
      ]
     },
     "metadata": {
      "needs_background": "light"
     },
     "output_type": "display_data"
    }
   ],
   "source": [
    "sns.boxplot(x=enem['TP_SEXO'], y=enem['NU_NOTA_CN'])\n",
    "plt.xlabel(\"Sexo\")\n",
    "plt.ylabel(\"Nota de Ciências da Natureza\")\n",
    "plt.show()"
   ]
  },
  {
   "cell_type": "code",
   "execution_count": 166,
   "id": "852dc7ee",
   "metadata": {},
   "outputs": [
    {
     "data": {
      "image/png": "[encoded data removed]",
      "text/plain": [
       "<Figure size 432x288 with 1 Axes>"
      ]
     },
     "metadata": {
      "needs_background": "light"
     },
     "output_type": "display_data"
    }
   ],
   "source": [
    "sns.boxplot(x=enem['TP_SEXO'], y=enem['NU_NOTA_REDACAO'])\n",
    "plt.xlabel(\"Sexo\")\n",
    "plt.ylabel(\"Nota de Redação\")\n",
    "plt.show()"
   ]
  },
  {
   "cell_type": "code",
   "execution_count": 167,
   "id": "dfc6a696",
   "metadata": {},
   "outputs": [],
   "source": [
    "from scipy import stats\n",
    "from statsmodels.stats import diagnostic"
   ]
  },
  {
   "cell_type": "code",
   "execution_count": 168,
   "id": "214ef596",
   "metadata": {},
   "outputs": [
    {
     "name": "stdout",
     "output_type": "stream",
     "text": [
      "2201184\n",
      "1500763\n"
     ]
    }
   ],
   "source": [
    "sexo = enem[['TP_SEXO', 'NU_NOTA_MT']]\n",
    "sexo_f = sexo.query('TP_SEXO == \"F\"').drop('TP_SEXO',axis=1).dropna()\n",
    "sexo_m = sexo.query('TP_SEXO == \"M\"').drop('TP_SEXO',axis=1).dropna()\n",
    "print(sexo_f.shape[0])\n",
    "print(sexo_m.shape[0])"
   ]
  },
  {
   "cell_type": "code",
   "execution_count": 169,
   "id": "5a8608ff",
   "metadata": {},
   "outputs": [
    {
     "data": {
      "text/plain": [
       "MannwhitneyuResult(statistic=array([1.30135795e+12]), pvalue=array([0.]))"
      ]
     },
     "execution_count": 169,
     "metadata": {},
     "output_type": "execute_result"
    }
   ],
   "source": [
    "# Teste U de Mann–Whitney: são estatisticamente diferentes!\n",
    "stats.mannwhitneyu(sexo_f, sexo_m, alternative='two-sided')"
   ]
  },
  {
   "cell_type": "code",
   "execution_count": 170,
   "id": "d09f9a38",
   "metadata": {},
   "outputs": [
    {
     "data": {
      "image/png": "[encoded data removed]",
      "text/plain": [
       "<Figure size 432x288 with 1 Axes>"
      ]
     },
     "metadata": {
      "needs_background": "light"
     },
     "output_type": "display_data"
    }
   ],
   "source": [
    "sns.boxplot(x=enem['Q025'], y=enem['NU_NOTA_MT'])\n",
    "plt.xlabel(\"Tem internet em casa?\")\n",
    "plt.ylabel(\"Nota de Matemática\")\n",
    "plt.show()"
   ]
  },
  {
   "cell_type": "code",
   "execution_count": 171,
   "id": "c4e773be",
   "metadata": {},
   "outputs": [
    {
     "data": {
      "image/png": "[encoded data removed]",
      "text/plain": [
       "<Figure size 432x288 with 1 Axes>"
      ]
     },
     "metadata": {
      "needs_background": "light"
     },
     "output_type": "display_data"
    }
   ],
   "source": [
    "sns.boxplot(x=enem['Q025'], y=enem['NU_NOTA_REDACAO'])\n",
    "plt.xlabel(\"Tem internet em casa?\")\n",
    "plt.ylabel(\"Nota de Redação\")\n",
    "plt.show()"
   ]
  },
  {
   "cell_type": "code",
   "execution_count": 172,
   "id": "d303f67e",
   "metadata": {},
   "outputs": [
    {
     "name": "stdout",
     "output_type": "stream",
     "text": [
      "781961\n",
      "2919986\n"
     ]
    }
   ],
   "source": [
    "internet = enem[['Q025', 'NU_NOTA_MT']]\n",
    "internet_n = internet.query('Q025 == \"Não\"').drop('Q025',axis=1).dropna()\n",
    "internet_s = internet.query('Q025 == \"Sim\"').drop('Q025',axis=1).dropna()\n",
    "print(internet_n.shape[0])\n",
    "print(internet_s.shape[0])"
   ]
  },
  {
   "cell_type": "code",
   "execution_count": 173,
   "id": "a734bbe9",
   "metadata": {},
   "outputs": [
    {
     "data": {
      "text/plain": [
       "MannwhitneyuResult(statistic=array([7.70686971e+11]), pvalue=array([0.]))"
      ]
     },
     "execution_count": 173,
     "metadata": {},
     "output_type": "execute_result"
    }
   ],
   "source": [
    "# Teste U de Mann–Whitney: são estatisticamente diferentes!\n",
    "stats.mannwhitneyu(internet_n, internet_s, alternative='two-sided')"
   ]
  },
  {
   "cell_type": "code",
   "execution_count": 174,
   "id": "90f42a84",
   "metadata": {},
   "outputs": [
    {
     "data": {
      "image/png": "[encoded data removed]",
      "text/plain": [
       "<Figure size 432x288 with 1 Axes>"
      ]
     },
     "metadata": {
      "needs_background": "light"
     },
     "output_type": "display_data"
    }
   ],
   "source": [
    "sns.boxplot(x=enem['TP_COR_RACA'], y=enem['NU_NOTA_MT'])\n",
    "plt.xlabel(\"\")\n",
    "plt.ylabel(\"Nota de Matemática\")\n",
    "plt.show()"
   ]
  },
  {
   "cell_type": "code",
   "execution_count": 175,
   "id": "2a9305b0",
   "metadata": {},
   "outputs": [
    {
     "name": "stdout",
     "output_type": "stream",
     "text": [
      "1374887\n",
      "1694136\n",
      "453218\n",
      "84752\n",
      "21522\n"
     ]
    }
   ],
   "source": [
    "raca = enem[['TP_COR_RACA', 'NU_NOTA_MT']]\n",
    "raca_b = raca.query('TP_COR_RACA == \"Branca\"').drop('TP_COR_RACA',axis=1).dropna()\n",
    "raca_pa = raca.query('TP_COR_RACA == \"Parda\"').drop('TP_COR_RACA',axis=1).dropna()\n",
    "raca_pr = raca.query('TP_COR_RACA == \"Preta\"').drop('TP_COR_RACA',axis=1).dropna()\n",
    "raca_a = raca.query('TP_COR_RACA == \"Amarela\"').drop('TP_COR_RACA',axis=1).dropna()\n",
    "raca_i = raca.query('TP_COR_RACA == \"Indígena\"').drop('TP_COR_RACA',axis=1).dropna()\n",
    "\n",
    "print(raca_b.shape[0])\n",
    "print(raca_pa.shape[0])\n",
    "print(raca_pr.shape[0])\n",
    "print(raca_a.shape[0])\n",
    "print(raca_i.shape[0]) "
   ]
  },
  {
   "cell_type": "code",
   "execution_count": 176,
   "id": "b3238828",
   "metadata": {},
   "outputs": [
    {
     "data": {
      "image/png": "[encoded data removed]",
      "text/plain": [
       "<Figure size 432x288 with 1 Axes>"
      ]
     },
     "metadata": {
      "needs_background": "light"
     },
     "output_type": "display_data"
    }
   ],
   "source": [
    "sns.boxplot(x=enem['Q006'], y=enem['NU_NOTA_MT'])\n",
    "plt.xticks(rotation=90)\n",
    "plt.xlabel(\"Renda familiar\")\n",
    "plt.ylabel(\"Nota de Matemática\")\n",
    "plt.show()"
   ]
  },
  {
   "cell_type": "code",
   "execution_count": 177,
   "id": "e9d0c12c",
   "metadata": {
    "scrolled": true
   },
   "outputs": [
    {
     "data": {
      "image/png": "[encoded data removed]",
      "text/plain": [
       "<Figure size 432x288 with 1 Axes>"
      ]
     },
     "metadata": {
      "needs_background": "light"
     },
     "output_type": "display_data"
    }
   ],
   "source": [
    "sns.boxplot(x=enem['Q002'], y=enem['NU_NOTA_MT'])\n",
    "plt.xticks(rotation=90)\n",
    "plt.xlabel(\"Escolaridade da mãe\")\n",
    "plt.ylabel(\"Nota de Matemática\")\n",
    "plt.show()"
   ]
  },
  {
   "cell_type": "code",
   "execution_count": 216,
   "id": "d5001d5e",
   "metadata": {},
   "outputs": [],
   "source": [
    "    estado_regiao = {\n",
    "    'RS': 'SUL',\n",
    "    'SC': 'SUL',\n",
    "    'PR': 'SUL',\n",
    "    'SP': 'SUDESTE',\n",
    "    'RJ': 'SUDESTE',\n",
    "    'MG': 'SUDESTE',\n",
    "    'ES': 'SUDESTE',\n",
    "    'AL': 'NORDESTE',\n",
    "    'BA': 'NORDESTE',    \n",
    "    'CE': 'NORDESTE',\n",
    "    'MA': 'NORDESTE',    \n",
    "    'PI': 'NORDESTE',\n",
    "    'PE': 'NORDESTE',    \n",
    "    'RN': 'NORDESTE',\n",
    "    'SE': 'NORDESTE',\n",
    "    'PB': 'NORDESTE',\n",
    "    'AC': 'NORTE',    \n",
    "    'AM': 'NORTE',  \n",
    "    'AP': 'NORTE',    \n",
    "    'PA': 'NORTE',  \n",
    "    'RO': 'NORTE',    \n",
    "    'RR': 'NORTE',  \n",
    "    'TO': 'NORTE',    \n",
    "    'GO': 'CENTRO-OESTE',\n",
    "    'MT': 'CENTRO-OESTE',\n",
    "    'MS': 'CENTRO-OESTE',\n",
    "    'DF': 'CENTRO-OESTE'\n",
    "    }"
   ]
  },
  {
   "cell_type": "code",
   "execution_count": 217,
   "id": "e8c3f542",
   "metadata": {},
   "outputs": [
    {
     "name": "stderr",
     "output_type": "stream",
     "text": [
      "C:\\Users\\Carlos\\AppData\\Local\\Temp/ipykernel_7676/3486076878.py:1: SettingWithCopyWarning: \n",
      "A value is trying to be set on a copy of a slice from a DataFrame.\n",
      "Try using .loc[row_indexer,col_indexer] = value instead\n",
      "\n",
      "See the caveats in the documentation: https://pandas.pydata.org/pandas-docs/stable/user_guide/indexing.html#returning-a-view-versus-a-copy\n",
      "  enem['REGIAO_UF'] = enem['SG_UF_RESIDENCIA'].map(estado_regiao)\n"
     ]
    }
   ],
   "source": [
    "enem['REGIAO_UF'] = enem['SG_UF_RESIDENCIA'].map(estado_regiao)"
   ]
  },
  {
   "cell_type": "code",
   "execution_count": 218,
   "id": "2a06e046",
   "metadata": {},
   "outputs": [
    {
     "data": {
      "text/html": [
       "<div>\n",
       "<style scoped>\n",
       "    .dataframe tbody tr th:only-of-type {\n",
       "        vertical-align: middle;\n",
       "    }\n",
       "\n",
       "    .dataframe tbody tr th {\n",
       "        vertical-align: top;\n",
       "    }\n",
       "\n",
       "    .dataframe thead th {\n",
       "        text-align: right;\n",
       "    }\n",
       "</style>\n",
       "<table border=\"1\" class=\"dataframe\">\n",
       "  <thead>\n",
       "    <tr style=\"text-align: right;\">\n",
       "      <th></th>\n",
       "      <th>SG_UF_RESIDENCIA</th>\n",
       "      <th>NU_IDADE</th>\n",
       "      <th>TP_SEXO</th>\n",
       "      <th>TP_COR_RACA</th>\n",
       "      <th>NU_NOTA_MT</th>\n",
       "      <th>NU_NOTA_CH</th>\n",
       "      <th>NU_NOTA_REDACAO</th>\n",
       "      <th>NU_NOTA_CN</th>\n",
       "      <th>Q025</th>\n",
       "      <th>Q001</th>\n",
       "      <th>Q006</th>\n",
       "      <th>Q002</th>\n",
       "      <th>REGIAO_UF</th>\n",
       "    </tr>\n",
       "  </thead>\n",
       "  <tbody>\n",
       "    <tr>\n",
       "      <th>5095257</th>\n",
       "      <td>MT</td>\n",
       "      <td>20.00</td>\n",
       "      <td>M</td>\n",
       "      <td>1</td>\n",
       "      <td>531.10</td>\n",
       "      <td>427.30</td>\n",
       "      <td>540.00</td>\n",
       "      <td>391.20</td>\n",
       "      <td>B</td>\n",
       "      <td>B</td>\n",
       "      <td>G</td>\n",
       "      <td>E</td>\n",
       "      <td>CENTRO-OESTE</td>\n",
       "    </tr>\n",
       "    <tr>\n",
       "      <th>5095259</th>\n",
       "      <td>PI</td>\n",
       "      <td>37.00</td>\n",
       "      <td>F</td>\n",
       "      <td>4</td>\n",
       "      <td>423.40</td>\n",
       "      <td>485.90</td>\n",
       "      <td>480.00</td>\n",
       "      <td>414.60</td>\n",
       "      <td>A</td>\n",
       "      <td>A</td>\n",
       "      <td>C</td>\n",
       "      <td>A</td>\n",
       "      <td>NORDESTE</td>\n",
       "    </tr>\n",
       "    <tr>\n",
       "      <th>5095260</th>\n",
       "      <td>SP</td>\n",
       "      <td>17.00</td>\n",
       "      <td>F</td>\n",
       "      <td>1</td>\n",
       "      <td>390.70</td>\n",
       "      <td>407.40</td>\n",
       "      <td>460.00</td>\n",
       "      <td>370.30</td>\n",
       "      <td>A</td>\n",
       "      <td>E</td>\n",
       "      <td>B</td>\n",
       "      <td>E</td>\n",
       "      <td>SUDESTE</td>\n",
       "    </tr>\n",
       "    <tr>\n",
       "      <th>5095263</th>\n",
       "      <td>PA</td>\n",
       "      <td>33.00</td>\n",
       "      <td>F</td>\n",
       "      <td>3</td>\n",
       "      <td>498.30</td>\n",
       "      <td>507.80</td>\n",
       "      <td>540.00</td>\n",
       "      <td>499.60</td>\n",
       "      <td>A</td>\n",
       "      <td>H</td>\n",
       "      <td>E</td>\n",
       "      <td>E</td>\n",
       "      <td>NORTE</td>\n",
       "    </tr>\n",
       "    <tr>\n",
       "      <th>5095264</th>\n",
       "      <td>SP</td>\n",
       "      <td>17.00</td>\n",
       "      <td>F</td>\n",
       "      <td>3</td>\n",
       "      <td>389.50</td>\n",
       "      <td>475.00</td>\n",
       "      <td>280.00</td>\n",
       "      <td>409.00</td>\n",
       "      <td>B</td>\n",
       "      <td>H</td>\n",
       "      <td>D</td>\n",
       "      <td>E</td>\n",
       "      <td>SUDESTE</td>\n",
       "    </tr>\n",
       "  </tbody>\n",
       "</table>\n",
       "</div>"
      ],
      "text/plain": [
       "        SG_UF_RESIDENCIA  NU_IDADE TP_SEXO  TP_COR_RACA  NU_NOTA_MT  \\\n",
       "5095257               MT     20.00       M            1      531.10   \n",
       "5095259               PI     37.00       F            4      423.40   \n",
       "5095260               SP     17.00       F            1      390.70   \n",
       "5095263               PA     33.00       F            3      498.30   \n",
       "5095264               SP     17.00       F            3      389.50   \n",
       "\n",
       "         NU_NOTA_CH  NU_NOTA_REDACAO  NU_NOTA_CN Q025 Q001 Q006 Q002  \\\n",
       "5095257      427.30           540.00      391.20    B    B    G    E   \n",
       "5095259      485.90           480.00      414.60    A    A    C    A   \n",
       "5095260      407.40           460.00      370.30    A    E    B    E   \n",
       "5095263      507.80           540.00      499.60    A    H    E    E   \n",
       "5095264      475.00           280.00      409.00    B    H    D    E   \n",
       "\n",
       "            REGIAO_UF  \n",
       "5095257  CENTRO-OESTE  \n",
       "5095259      NORDESTE  \n",
       "5095260       SUDESTE  \n",
       "5095263         NORTE  \n",
       "5095264       SUDESTE  "
      ]
     },
     "execution_count": 218,
     "metadata": {},
     "output_type": "execute_result"
    }
   ],
   "source": [
    "enem.tail()"
   ]
  },
  {
   "cell_type": "code",
   "execution_count": 219,
   "id": "92902960",
   "metadata": {},
   "outputs": [
    {
     "data": {
      "image/png": "[encoded data removed]",
      "text/plain": [
       "<Figure size 432x288 with 1 Axes>"
      ]
     },
     "metadata": {
      "needs_background": "light"
     },
     "output_type": "display_data"
    }
   ],
   "source": [
    "sns.boxplot(x=enem['REGIAO_UF'], y=enem['NU_NOTA_MT'])\n",
    "plt.xticks(rotation=90)\n",
    "plt.xlabel(\"\")\n",
    "plt.ylabel(\"Nota de Matemática\")\n",
    "plt.show()"
   ]
  },
  {
   "cell_type": "code",
   "execution_count": 221,
   "id": "d6a4a508",
   "metadata": {},
   "outputs": [
    {
     "data": {
      "image/png": "[encoded data removed]",
      "text/plain": [
       "<Figure size 432x288 with 1 Axes>"
      ]
     },
     "metadata": {
      "needs_background": "light"
     },
     "output_type": "display_data"
    }
   ],
   "source": [
    "sns.boxplot(x=enem['REGIAO_UF'], y=enem['NU_NOTA_REDACAO'])\n",
    "plt.xticks(rotation=90)\n",
    "plt.xlabel(\"\")\n",
    "plt.ylabel(\"Nota de Redação\")\n",
    "plt.show()"
   ]
  },
  {
   "cell_type": "code",
   "execution_count": null,
   "id": "94f520b4",
   "metadata": {},
   "outputs": [],
   "source": []
  }
 ],
 "metadata": {
  "kernelspec": {
   "display_name": "Python 3 (ipykernel)",
   "language": "python",
   "name": "python3"
  },
  "language_info": {
   "codemirror_mode": {
    "name": "ipython",
    "version": 3
   },
   "file_extension": ".py",
   "mimetype": "text/x-python",
   "name": "python",
   "nbconvert_exporter": "python",
   "pygments_lexer": "ipython3",
   "version": "3.9.7"
  }
 },
 "nbformat": 4,
 "nbformat_minor": 5
}
